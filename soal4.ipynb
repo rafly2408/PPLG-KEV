{
  "nbformat": 4,
  "nbformat_minor": 0,
  "metadata": {
    "colab": {
      "provenance": [],
      "authorship_tag": "ABX9TyM7IF18FJxFPrVXUqLbWrSE",
      "include_colab_link": true
    },
    "kernelspec": {
      "name": "python3",
      "display_name": "Python 3"
    },
    "language_info": {
      "name": "python"
    }
  },
  "cells": [
    {
      "cell_type": "markdown",
      "metadata": {
        "id": "view-in-github",
        "colab_type": "text"
      },
      "source": [
        "<a href=\"https://colab.research.google.com/github/rafly2408/PPLG-KEV/blob/main/soal4.ipynb\" target=\"_parent\"><img src=\"https://colab.research.google.com/assets/colab-badge.svg\" alt=\"Open In Colab\"/></a>"
      ]
    },
    {
      "cell_type": "markdown",
      "source": [
        "4.buatlah sebuah program sederhana menggunakan perulangan dan buatkan algoritma dan flowchartnya!"
      ],
      "metadata": {
        "id": "inbiSlIo0o7T"
      }
    },
    {
      "cell_type": "code",
      "source": [
        "# Inisialisasi variabel total dengan nilai 0\n",
        "total = 0\n",
        "\n",
        "# Membaca input dari pengguna untuk n\n",
        "n = int(input(\"Masukkan nilai n: \"))\n",
        "\n",
        "# Melakukan perulangan for dari 1 hingga n\n",
        "for i in range(1, n+1):\n",
        "    # Menambahkan nilai i ke dalam total\n",
        "    total += i\n",
        "\n",
        "# Cetak total\n",
        "print(\"Total dari 1 hingga\", n, \"adalah\", total)\n"
      ],
      "metadata": {
        "colab": {
          "base_uri": "https://localhost:8080/"
        },
        "id": "b6lRE5zf1g6Z",
        "outputId": "045df6f3-d12d-4152-cb5d-b49335cc3873"
      },
      "execution_count": null,
      "outputs": [
        {
          "output_type": "stream",
          "name": "stdout",
          "text": [
            "Masukkan nilai n: 1\n",
            "Total dari 1 hingga 1 adalah 1\n"
          ]
        }
      ]
    },
    {
      "cell_type": "markdown",
      "source": [
        "Algoritma:\n",
        "\n",
        "- Mulai\n",
        "- Inisialisasi variabel total dengan nilai 0.\n",
        "- Membaca input dari pengguna untuk n, yaitu batas atas perulangan.\n",
        "- Melakukan perulangan for dari 1 hingga n (inklusif).\n",
        "- Di dalam setiap iterasi, tambahkan nilai i ke dalam total.\n",
        "- Cetak total.\n",
        "- Selesai."
      ],
      "metadata": {
        "id": "h4realtx3CYG"
      }
    }
  ]
}