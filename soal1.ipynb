{
  "nbformat": 4,
  "nbformat_minor": 0,
  "metadata": {
    "colab": {
      "provenance": [],
      "authorship_tag": "ABX9TyP8VbDOe4MhUNnMHskR/H+V",
      "include_colab_link": true
    },
    "kernelspec": {
      "name": "python3",
      "display_name": "Python 3"
    },
    "language_info": {
      "name": "python"
    }
  },
  "cells": [
    {
      "cell_type": "markdown",
      "metadata": {
        "id": "view-in-github",
        "colab_type": "text"
      },
      "source": [
        "<a href=\"https://colab.research.google.com/github/rafly2408/PPLG-KEV/blob/main/soal1.ipynb\" target=\"_parent\"><img src=\"https://colab.research.google.com/assets/colab-badge.svg\" alt=\"Open In Colab\"/></a>"
      ]
    },
    {
      "cell_type": "markdown",
      "source": [
        "1. buatlah sebuah program untuk menentukan bilangan positif, bilangan negatif, dan bilangan nol"
      ],
      "metadata": {
        "id": "9pftxe1gLvvy"
      }
    },
    {
      "cell_type": "code",
      "source": [
        "angka = 0\n",
        "\n",
        "if angka > 0:\n",
        "  print(\"anda masukan bilangan positif\")\n",
        "elif angka == 0:\n",
        "  print(\"anda masukan bilangan nol\")\n",
        "else:\n",
        "  print(\"anda masukan bilangan negatif\")\n"
      ],
      "metadata": {
        "colab": {
          "base_uri": "https://localhost:8080/"
        },
        "id": "tx1XdbjWMvCv",
        "outputId": "a3c83703-bed4-4958-c1be-a2f45dcb6e7c"
      },
      "execution_count": null,
      "outputs": [
        {
          "output_type": "stream",
          "name": "stdout",
          "text": [
            "anda masukan bilangan nol\n"
          ]
        }
      ]
    },
    {
      "cell_type": "markdown",
      "source": [
        "contoh program untuk bilangan positif,bilangan negatif,dan bilangan nol"
      ],
      "metadata": {
        "id": "9H1Nfn_sb6J9"
      }
    },
    {
      "cell_type": "markdown",
      "source": [
        "```\n",
        "if angka > 0:\n",
        "  print(\"anda masukan bilangan positif\")\n",
        "elif angka == 0:\n",
        "  print(\"anda masukan bilangan nol\")\n",
        "else:\n",
        "  print(\"anda masukan bilangan negatif\")\n",
        "\n",
        "\n",
        "```\n",
        "\n"
      ],
      "metadata": {
        "id": "YHXHIiVlddGg"
      }
    },
    {
      "cell_type": "markdown",
      "source": [],
      "metadata": {
        "id": "V6QfXsMydkzL"
      }
    }
  ]
}