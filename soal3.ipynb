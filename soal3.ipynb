{
  "cells": [
    {
      "cell_type": "markdown",
      "metadata": {
        "id": "view-in-github",
        "colab_type": "text"
      },
      "source": [
        "<a href=\"https://colab.research.google.com/github/rafly2408/PPLG-KEV/blob/main/soal3.ipynb\" target=\"_parent\"><img src=\"https://colab.research.google.com/assets/colab-badge.svg\" alt=\"Open In Colab\"/></a>"
      ]
    },
    {
      "cell_type": "markdown",
      "metadata": {
        "id": "__FbiHCW0CUQ"
      },
      "source": [
        "3. buatlah sebuah game sederhana menggunakan bahasa phyton beserta algoritma dan flowchart nya"
      ]
    },
    {
      "cell_type": "code",
      "execution_count": 2,
      "metadata": {
        "colab": {
          "base_uri": "https://localhost:8080/"
        },
        "id": "nkuxUJGC4dqU",
        "outputId": "665d341f-7773-4d90-9ae2-b8c8cfaca062"
      },
      "outputs": [
        {
          "output_type": "stream",
          "name": "stdout",
          "text": [
            "Tebak angka (antara 1 dan 100): 24\n",
            "Tebakan Anda terlalu rendah. Coba lagi.\n",
            "Tebak angka (antara 1 dan 100): 98\n",
            "Tebakan Anda terlalu tinggi. Coba lagi.\n",
            "Tebak angka (antara 1 dan 100): 50\n",
            "Tebakan Anda terlalu rendah. Coba lagi.\n",
            "Tebak angka (antara 1 dan 100): 60\n",
            "Tebakan Anda terlalu rendah. Coba lagi.\n",
            "Tebak angka (antara 1 dan 100): 70\n",
            "Tebakan Anda terlalu rendah. Coba lagi.\n",
            "Tebak angka (antara 1 dan 100): 89\n",
            "Tebakan Anda terlalu rendah. Coba lagi.\n",
            "Tebak angka (antara 1 dan 100): 90\n",
            "Tebakan Anda terlalu rendah. Coba lagi.\n",
            "Tebak angka (antara 1 dan 100): 99\n",
            "Tebakan Anda terlalu tinggi. Coba lagi.\n",
            "Tebak angka (antara 1 dan 100): 95\n",
            "Tebakan Anda terlalu tinggi. Coba lagi.\n",
            "Tebak angka (antara 1 dan 100): 92\n",
            "Tebakan Anda terlalu rendah. Coba lagi.\n",
            "Tebak angka (antara 1 dan 100): 93\n",
            "Selamat, Anda berhasil tebak angka 93! Anda mencoba sebanyak 11 kali.\n"
          ]
        }
      ],
      "source": [
        "import random\n",
        "\n",
        "# Generate random number between 1 and 100\n",
        "angka_rahasia = random.randint(1, 100)\n",
        "\n",
        "tebakan = 0\n",
        "coba = 0\n",
        "\n",
        "while tebakan != angka_rahasia:\n",
        "    tebakan = int(input(\"Tebak angka (antara 1 dan 100): \"))\n",
        "    coba += 1\n",
        "\n",
        "    if tebakan == angka_rahasia:\n",
        "        print(f\"Selamat, Anda berhasil tebak angka {angka_rahasia}! Anda mencoba sebanyak {coba} kali.\")\n",
        "    elif tebakan < angka_rahasia:\n",
        "        print(\"Tebakan Anda terlalu rendah. Coba lagi.\")\n",
        "    else:\n",
        "        print(\"Tebakan Anda terlalu tinggi. Coba lagi.\")\n"
      ]
    },
    {
      "cell_type": "markdown",
      "metadata": {
        "id": "tQPaRV406OYr"
      },
      "source": [
        "Algoritma:\n",
        "\n",
        "- Mulai\n",
        "-Buat variabel angka_rahasia dan tetapkan kepadanya angka acak antara 1 hingga 100.\n",
        "-Buat variabel tebakan dan setel nilainya menjadi 0 (tebakan awal).\n",
        "-Mulai loop permainan.\n",
        "-Membaca input dari pengguna untuk tebakan dan simpan dalam variabel tebakan.\n",
        "-Memeriksa apakah tebakan sama dengan angka_rahasia.\n",
        "a. Jika iya, cetak \"Selamat, Anda berhasil tebak angka!\" dan selesaikan permainan.\n",
        "b. Jika tidak, cetak \"Tebakan Anda terlalu rendah\" atau \"Tebakan Anda terlalu tinggi\" tergantung pada perbandingan antara tebakan dan angka_rahasia.\n",
        "-Ulangi langkah 5 hingga 6 sampai pemain menebak angka dengan benar.\n",
        "-Selesai."
      ]
    }
  ],
  "metadata": {
    "colab": {
      "provenance": [],
      "authorship_tag": "ABX9TyN/1p/YFRX0G60IuzsWmF1n",
      "include_colab_link": true
    },
    "kernelspec": {
      "display_name": "Python 3",
      "name": "python3"
    },
    "language_info": {
      "name": "python"
    }
  },
  "nbformat": 4,
  "nbformat_minor": 0
}